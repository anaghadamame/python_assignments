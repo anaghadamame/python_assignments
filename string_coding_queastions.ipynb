{
 "cells": [
  {
   "cell_type": "code",
   "execution_count": 9,
   "metadata": {},
   "outputs": [
    {
     "name": "stdout",
     "output_type": "stream",
     "text": [
      "aebhcd\n"
     ]
    }
   ],
   "source": [
    "#i/p=a1b2c4\n",
    "#o/p=abbdcg\n",
    "s1='a4b6c1'\n",
    "s=''\n",
    "for i in s1:\n",
    "    if i.isalpha():\n",
    "        s=s+i\n",
    "        x=i\n",
    "    else:\n",
    "        n=int(i)\n",
    "        new=chr(ord(x)+n)\n",
    "        s=s+new\n",
    "print(s)"
   ]
  },
  {
   "cell_type": "code",
   "execution_count": 11,
   "metadata": {},
   "outputs": [
    {
     "name": "stdout",
     "output_type": "stream",
     "text": [
      "aaabbc\n"
     ]
    },
    {
     "data": {
      "text/plain": [
       "'3a2b1c'"
      ]
     },
     "execution_count": 11,
     "metadata": {},
     "output_type": "execute_result"
    }
   ],
   "source": [
    "#i/p: 'aaabbbccz'\n",
    "#o/p: '3a3b2c1z'\n",
    "s1=input()\n",
    "s=''.join(sorted(s1))\n",
    "prv=s[0]\n",
    "c=0\n",
    "op=''\n",
    "for i in range(len(s)):\n",
    "    if prv==s[i]:\n",
    "        c=c+1\n",
    "    else:\n",
    "        op=op+str(c)+prv\n",
    "        prv=s[i]\n",
    "        c=1\n",
    "    if i==len(s)-1:\n",
    "        op=op+str(c)+prv\n",
    "op"
   ]
  },
  {
   "cell_type": "code",
   "execution_count": null,
   "metadata": {},
   "outputs": [],
   "source": []
  },
  {
   "cell_type": "code",
   "execution_count": 13,
   "metadata": {},
   "outputs": [
    {
     "data": {
      "text/plain": [
       "'Anagha am I '"
      ]
     },
     "execution_count": 13,
     "metadata": {},
     "output_type": "execute_result"
    }
   ],
   "source": [
    "#i/p: s=\"I am Anagha\"\n",
    "#o/p: \"Anagha I am\"\n",
    "s=\"I am Anagha\"\n",
    "s1=s.split(' ')\n",
    "i=len(s1)-1\n",
    "s2=\"\"\n",
    "while i>=0:\n",
    "    s2=s2+s1[i]+\" \"\n",
    "    i=i-1\n",
    "s2"
   ]
  },
  {
   "cell_type": "code",
   "execution_count": 2,
   "metadata": {},
   "outputs": [
    {
     "name": "stdout",
     "output_type": "stream",
     "text": [
      "geeksforgeeks\n"
     ]
    },
    {
     "data": {
      "text/plain": [
       "'g2e4k2s2f1o1r1'"
      ]
     },
     "execution_count": 2,
     "metadata": {},
     "output_type": "execute_result"
    }
   ],
   "source": [
    "#i/p: s='anagha'\n",
    "#o/p: char count using dict\n",
    "d={}\n",
    "s1=''\n",
    "s=input()\n",
    "for i in s:\n",
    "    d[i]=d.get(i,0)+1\n",
    "for k,v in d.items():\n",
    "    #print(v)\n",
    "    #print(k)\n",
    "    s1=s1+k+str(v)\n",
    "s1"
   ]
  },
  {
   "cell_type": "code",
   "execution_count": 14,
   "metadata": {},
   "outputs": [
    {
     "name": "stdout",
     "output_type": "stream",
     "text": [
      "2\n",
      "geeksforgeeks\n",
      "avb\n",
      "g\n",
      "-1\n"
     ]
    }
   ],
   "source": [
    "def myfunc(s):\n",
    "    d={}\n",
    "    s1=''\n",
    "    c=0\n",
    "    for i in s:\n",
    "        d[i]=d.get(i,0)+1\n",
    "    for k,v in d.items():\n",
    "        s1=s1+k+str(v)\n",
    "    for i in range(len(s1)):\n",
    "        if i%2==1:\n",
    "            x=s1[i]\n",
    "            if (int(x)>1):\n",
    "                return (s[i-1])\n",
    "                break\n",
    "    for i in range(len(s1)):\n",
    "        if i%2==1:\n",
    "            x=s1[i]\n",
    "            if (int(x)==1):\n",
    "                c=1\n",
    "    if c==1:\n",
    "        return -1\n",
    "            \n",
    "\n",
    "t=int(input())\n",
    "q=[]\n",
    "o=[]\n",
    "for i in range(t):\n",
    "    q.append(input())\n",
    "for s in q:\n",
    "    o.append(myfunc(s))\n",
    "for i in o:\n",
    "    print(i)\n"
   ]
  },
  {
   "cell_type": "code",
   "execution_count": null,
   "metadata": {},
   "outputs": [],
   "source": [
    "t=int(input())\n",
    "q=[]\n",
    "o=[]\n",
    "for i in range(t):\n",
    "    q.append(input())\n",
    "for s in q:\n",
    "    o.append(firstUniqChar(s))\n",
    "for i in o:\n",
    "    print(i)"
   ]
  },
  {
   "cell_type": "code",
   "execution_count": 28,
   "metadata": {},
   "outputs": [
    {
     "name": "stdout",
     "output_type": "stream",
     "text": [
      "anagha shashikant damame\n",
      "a for 7 times\n",
      "i for 1 times\n",
      "e for 1 times\n"
     ]
    }
   ],
   "source": [
    "#Program to occurance of ovel in string\n",
    "s=input()\n",
    "l=['a','e','i','o','u']\n",
    "d={}\n",
    "for i in s:\n",
    "    if i in l:\n",
    "        d[i]=d.get(i,0)+1\n",
    "for k,v in d.items():\n",
    "    print(\"{} for {} times\".format(k,v))"
   ]
  },
  {
   "cell_type": "code",
   "execution_count": 36,
   "metadata": {},
   "outputs": [
    {
     "name": "stdout",
     "output_type": "stream",
     "text": [
      "i am anagha\n"
     ]
    },
    {
     "data": {
      "text/plain": [
       "'i ma ahgana '"
      ]
     },
     "execution_count": 36,
     "metadata": {},
     "output_type": "execute_result"
    }
   ],
   "source": [
    "#reverse only characters\n",
    "#i/p: s=\"i am\"\n",
    "#o/p: \"i ma\"\n",
    "s=input()\n",
    "l=s.split(' ')\n",
    "s1=''\n",
    "for i in l:\n",
    "    s1=s1+i[::-1]+\" \"\n",
    "s1"
   ]
  },
  {
   "cell_type": "code",
   "execution_count": 1,
   "metadata": {},
   "outputs": [
    {
     "name": "stdout",
     "output_type": "stream",
     "text": [
      "I am anagha\n"
     ]
    },
    {
     "data": {
      "text/plain": [
       "'I ma anagha'"
      ]
     },
     "execution_count": 1,
     "metadata": {},
     "output_type": "execute_result"
    }
   ],
   "source": [
    "#Reverse Alternate word in list\n",
    "s=input()\n",
    "s1=s.split(\" \")\n",
    "l1=[]\n",
    "for i in range(len(s1)):\n",
    "    if i%2==0:\n",
    "        l1.append(s1[i])\n",
    "    else:\n",
    "        l1.append(s1[i][::-1])\n",
    "' '.join(l1)"
   ]
  },
  {
   "cell_type": "code",
   "execution_count": 41,
   "metadata": {},
   "outputs": [
    {
     "name": "stdout",
     "output_type": "stream",
     "text": [
      "abcdefgh\n",
      "a\n",
      "c\n",
      "e\n",
      "g\n",
      "odd\n",
      "b\n",
      "d\n",
      "f\n",
      "h\n"
     ]
    }
   ],
   "source": [
    "#print Odd and even char in string\n",
    "s=input()\n",
    "i=0\n",
    "while i<len(s):\n",
    "    print(s[i])\n",
    "    i=i+2\n",
    "i=1\n",
    "print(\"odd\")\n",
    "while i<len(s):\n",
    "    print(s[i])\n",
    "    i=i+2"
   ]
  },
  {
   "cell_type": "code",
   "execution_count": 45,
   "metadata": {},
   "outputs": [
    {
     "name": "stdout",
     "output_type": "stream",
     "text": [
      "a2g67o3\n"
     ]
    },
    {
     "data": {
      "text/plain": [
       "'ago2367'"
      ]
     },
     "execution_count": 45,
     "metadata": {},
     "output_type": "execute_result"
    }
   ],
   "source": [
    "#Sort string char and digit wise\n",
    "#i/p: s=b11c2d3d53e1\n",
    "#o/p: bcdde1123531\n",
    "s=input()\n",
    "d,a='',''\n",
    "for i in s:\n",
    "    if i.isalpha():\n",
    "        d=d+i\n",
    "    else:\n",
    "        a=a+i\n",
    "s1=(''.join(sorted(d)))+(''.join(sorted(a)))\n",
    "s1\n",
    "\n"
   ]
  },
  {
   "cell_type": "code",
   "execution_count": 2,
   "metadata": {},
   "outputs": [
    {
     "name": "stdout",
     "output_type": "stream",
     "text": [
      "asd\n",
      "sda\n",
      "YES\n"
     ]
    }
   ],
   "source": [
    "# check whether two given strings are an anagram of each other or not. \n",
    "str1=input()\n",
    "str2=input()\n",
    "s1=''.join(sorted(str1))\n",
    "s2=''.join(sorted(str2))\n",
    "if s1==s2:\n",
    "\tprint('YES')\n",
    "else:\n",
    "\tprint(\"NO\")"
   ]
  },
  {
   "cell_type": "code",
   "execution_count": 51,
   "metadata": {},
   "outputs": [
    {
     "name": "stdout",
     "output_type": "stream",
     "text": [
      "a2b6k2e3\n"
     ]
    },
    {
     "data": {
      "text/plain": [
       "'aabbbbbbeeekk'"
      ]
     },
     "execution_count": 51,
     "metadata": {},
     "output_type": "execute_result"
    }
   ],
   "source": [
    "#i/p : s='a2b6s1'\n",
    "#o/p : aabbs\n",
    "s=input()\n",
    "op=''\n",
    "for i in s:\n",
    "    if i.isalpha():\n",
    "        x=i\n",
    "    else:\n",
    "        op=op+x*int(i)\n",
    "op=''.join(sorted(op))\n",
    "op"
   ]
  },
  {
   "cell_type": "markdown",
   "metadata": {},
   "source": [
    "# Numbers"
   ]
  },
  {
   "cell_type": "code",
   "execution_count": 2,
   "metadata": {},
   "outputs": [
    {
     "name": "stdout",
     "output_type": "stream",
     "text": [
      "11\n",
      "25\n",
      "11\n",
      "13\n",
      "17\n",
      "19\n",
      "23\n"
     ]
    }
   ],
   "source": [
    "#Print prime number witn in range\n",
    "s=int(input())\n",
    "e=int(input())\n",
    "for i in range(s,e+1):\n",
    "    if i>1:\n",
    "        for j in range(2,i):\n",
    "            if (i%j==0):\n",
    "                break\n",
    "        else:\n",
    "            print(i)\n",
    "            "
   ]
  },
  {
   "cell_type": "code",
   "execution_count": 3,
   "metadata": {},
   "outputs": [
    {
     "name": "stdout",
     "output_type": "stream",
     "text": [
      "2\n",
      "anaghad\n",
      "shashikant\n",
      "4\n",
      "7\n"
     ]
    }
   ],
   "source": [
    "def longestUniqueSubsttr(s):\n",
    "        dic = {}\n",
    "        maxi = c = 0\n",
    "        for i in range(len(s)):\n",
    "            if s[i] in dic:\n",
    "                c = min(c+1,i-dic[s[i]])\n",
    "            else: c += 1\n",
    "            maxi = max(maxi,c)\n",
    "            dic[s[i]] = i\n",
    "        return maxi\n",
    "t=int(input())\n",
    "l=[]\n",
    "for i in range(t):\n",
    "        s=input() \n",
    "        cnt=longestUniqueSubsttr(s)\n",
    "        l.append(cnt)\n",
    "for i in l:\n",
    "        print(i)"
   ]
  },
  {
   "cell_type": "code",
   "execution_count": null,
   "metadata": {},
   "outputs": [],
   "source": [
    "s='anagha'\n",
    "d={}\n",
    "m,c=0,0\n",
    "for i in range(len(s)):\n",
    "    if s[i] in d:\n",
    "        "
   ]
  },
  {
   "cell_type": "code",
   "execution_count": 7,
   "metadata": {},
   "outputs": [
    {
     "name": "stdout",
     "output_type": "stream",
     "text": [
      "1\n",
      "hhmdngf\n",
      "0\n"
     ]
    },
    {
     "ename": "NameError",
     "evalue": "name 'l1' is not defined",
     "output_type": "error",
     "traceback": [
      "\u001b[1;31m---------------------------------------------------------------------------\u001b[0m",
      "\u001b[1;31mNameError\u001b[0m                                 Traceback (most recent call last)",
      "\u001b[1;32m<ipython-input-7-3e8547e6c542>\u001b[0m in \u001b[0;36m<module>\u001b[1;34m\u001b[0m\n\u001b[0;32m     18\u001b[0m \u001b[1;32mfor\u001b[0m \u001b[0mi\u001b[0m \u001b[1;32min\u001b[0m \u001b[0ml\u001b[0m\u001b[1;33m:\u001b[0m\u001b[1;33m\u001b[0m\u001b[1;33m\u001b[0m\u001b[0m\n\u001b[0;32m     19\u001b[0m         \u001b[0mprint\u001b[0m\u001b[1;33m(\u001b[0m\u001b[0mi\u001b[0m\u001b[1;33m)\u001b[0m\u001b[1;33m\u001b[0m\u001b[1;33m\u001b[0m\u001b[0m\n\u001b[1;32m---> 20\u001b[1;33m \u001b[0ml1\u001b[0m\u001b[1;33m\u001b[0m\u001b[1;33m\u001b[0m\u001b[0m\n\u001b[0m",
      "\u001b[1;31mNameError\u001b[0m: name 'l1' is not defined"
     ]
    }
   ],
   "source": [
    "def pn(st):\n",
    "    alphabet = \"abcdefghijklmnopqrstuvwxyz\"\n",
    "    l1=[]\n",
    "    for i in st:\n",
    "        e=ord(i)\n",
    "        l1.append(e)\n",
    "    if s1==alphabet:\n",
    "            return 1\n",
    "    else:\n",
    "            return 0\n",
    "\n",
    "t=int(input())\n",
    "l=[]\n",
    "for i in range(t):\n",
    "        st=input() \n",
    "        cnt=pn(st)\n",
    "        l.append(cnt)\n",
    "for i in l:\n",
    "        print(i)"
   ]
  },
  {
   "cell_type": "code",
   "execution_count": 15,
   "metadata": {},
   "outputs": [
    {
     "data": {
      "text/plain": [
       "'abcdx'"
      ]
     },
     "execution_count": 15,
     "metadata": {},
     "output_type": "execute_result"
    }
   ],
   "source": [
    "    st='xabcd'\n",
    "    l1=[]\n",
    "    s=''\n",
    "    for i in st:\n",
    "        e=ord(i)\n",
    "        l1.append(e)\n",
    "    x=sorted(l1)\n",
    "    for i in x:\n",
    "        s=s+chr(i)\n",
    "    s"
   ]
  },
  {
   "cell_type": "code",
   "execution_count": 17,
   "metadata": {},
   "outputs": [
    {
     "name": "stdout",
     "output_type": "stream",
     "text": [
      "2\n",
      "abcdflfgh\n",
      "sdsg\n",
      "0\n",
      "0\n"
     ]
    }
   ],
   "source": [
    "# Your code here\n",
    "def pn(st):\n",
    "    alphabet = \"abcdefghijklmnopqrstuvwxyz\"\n",
    "    l1=[]\n",
    "    s=''\n",
    "    for i in st:\n",
    "        e=ord(i)\n",
    "        l1.append(e)\n",
    "    x=sorted(l1)\n",
    "    for i in x:\n",
    "        s=s+chr(i)\n",
    "    if s==alphabet:\n",
    "            return 1\n",
    "    else:\n",
    "            return 0\n",
    "\n",
    "t=int(input())\n",
    "l=[]\n",
    "for i in range(t):\n",
    "        st=input() \n",
    "        cnt=pn(st)\n",
    "        l.append(cnt)\n",
    "for i in l:\n",
    "        print(i)"
   ]
  },
  {
   "cell_type": "code",
   "execution_count": 27,
   "metadata": {},
   "outputs": [
    {
     "name": "stdout",
     "output_type": "stream",
     "text": [
      "4\n",
      "5\n",
      "3\n",
      "3\n",
      "1\n",
      "0 1\n",
      "0 2\n",
      "0 3\n",
      "1 2\n",
      "1 3\n",
      "2 3\n",
      "24\n"
     ]
    }
   ],
   "source": [
    "n=int(input())\n",
    "l=[]\n",
    "sm=0\n",
    "for i in range(n):\n",
    "    x=int(input())\n",
    "    l.append(x)\n",
    "for i in range(n):\n",
    "    for j in range(i,n):\n",
    "        if i<j:\n",
    "            print(i,j)\n",
    "            s=max(l[i],l[j])\n",
    "            sm=sm+s\n",
    "print(sm)"
   ]
  },
  {
   "cell_type": "code",
   "execution_count": null,
   "metadata": {},
   "outputs": [],
   "source": []
  }
 ],
 "metadata": {
  "kernelspec": {
   "display_name": "Python 3",
   "language": "python",
   "name": "python3"
  },
  "language_info": {
   "codemirror_mode": {
    "name": "ipython",
    "version": 3
   },
   "file_extension": ".py",
   "mimetype": "text/x-python",
   "name": "python",
   "nbconvert_exporter": "python",
   "pygments_lexer": "ipython3",
   "version": "3.7.6"
  }
 },
 "nbformat": 4,
 "nbformat_minor": 4
}
