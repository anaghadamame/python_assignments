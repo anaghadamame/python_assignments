{
 "cells": [
  {
   "cell_type": "code",
   "execution_count": 23,
   "metadata": {},
   "outputs": [
    {
     "data": {
      "text/plain": [
       "[1, 2, 'py']"
      ]
     },
     "execution_count": 23,
     "metadata": {},
     "output_type": "execute_result"
    }
   ],
   "source": [
    "#remove() :To remove perticular element from list\n",
    "lst=[1,2,\"ML\",\"py\"]\n",
    "lst.remove(\"ML\")\n",
    "lst "
   ]
  },
  {
   "cell_type": "code",
   "execution_count": 30,
   "metadata": {},
   "outputs": [
    {
     "name": "stdout",
     "output_type": "stream",
     "text": [
      "number of times 4 occur in list is 5 times\n"
     ]
    }
   ],
   "source": [
    "#count(): it counts the occurance of perticular vale in list\n",
    "lst1=[1,2,3,4,4,5,4.4,4,4,4]\n",
    "print(\"number of times 4 occur in list is {} times\".format(lst1.count(4)))"
   ]
  },
  {
   "cell_type": "code",
   "execution_count": 31,
   "metadata": {},
   "outputs": [
    {
     "data": {
      "text/plain": [
       "[]"
      ]
     },
     "execution_count": 31,
     "metadata": {},
     "output_type": "execute_result"
    }
   ],
   "source": [
    "#clear()::It will truncate the list but empty list is present\n",
    "lst1.clear()\n",
    "lst1"
   ]
  },
  {
   "cell_type": "code",
   "execution_count": 38,
   "metadata": {},
   "outputs": [
    {
     "name": "stdout",
     "output_type": "stream",
     "text": [
      "[0, 1, 3, 5, 44] ['Anagha', 'Kiran', 'Pol']\n"
     ]
    }
   ],
   "source": [
    "#sort():: It will sort the list in ascending order by default \n",
    "lst1=[44,1,3,5,0] #only same types of values are allowed while sorting\n",
    "lst2=[\"Anagha\",\"Pol\",\"Kiran\"]\n",
    "lst1.sort()\n",
    "lst2.sort()\n",
    "print(lst1 , lst2)"
   ]
  },
  {
   "cell_type": "code",
   "execution_count": 41,
   "metadata": {},
   "outputs": [
    {
     "data": {
      "text/plain": [
       "[2, 3, 1, 'aas', 'asd']"
      ]
     },
     "execution_count": 41,
     "metadata": {},
     "output_type": "execute_result"
    }
   ],
   "source": [
    "#reverse()::For rotating list or it will print list element staring from last\n",
    "lst1=[\"asd\",\"aas\",1,3,2]\n",
    "lst1.reverse()\n",
    "lst1"
   ]
  },
  {
   "cell_type": "code",
   "execution_count": 22,
   "metadata": {},
   "outputs": [
    {
     "data": {
      "text/plain": [
       "[10, 20, [30, 40, [50, 60, 70], 80], 90, 100]"
      ]
     },
     "execution_count": 22,
     "metadata": {},
     "output_type": "execute_result"
    }
   ],
   "source": [
    "l1=[10,20,[30,40,[50,60],80],90,100]\n",
    "l2=[70]\n",
    "l1[2][2].extend(l2)\n",
    "l1\n",
    "#output::[10, 20, [30, 40, [50, 60, 70], 80], 90, 100]"
   ]
  },
  {
   "cell_type": "code",
   "execution_count": 20,
   "metadata": {},
   "outputs": [
    {
     "data": {
      "text/plain": [
       "[1, 2, [3, 4, 5, 6, [7, 8]], 9]"
      ]
     },
     "execution_count": 20,
     "metadata": {},
     "output_type": "execute_result"
    }
   ],
   "source": [
    "l1 = [1,2,[3,4,5,6],9]\n",
    "l2=[7,8]\n",
    "l1[2].insert(4,l2)\n",
    "l1\n",
    "#output::[1,2,[3,4,5,6,[7,8]],9]"
   ]
  },
  {
   "cell_type": "code",
   "execution_count": null,
   "metadata": {},
   "outputs": [],
   "source": []
  }
 ],
 "metadata": {
  "kernelspec": {
   "display_name": "Python 3",
   "language": "python",
   "name": "python3"
  },
  "language_info": {
   "codemirror_mode": {
    "name": "ipython",
    "version": 3
   },
   "file_extension": ".py",
   "mimetype": "text/x-python",
   "name": "python",
   "nbconvert_exporter": "python",
   "pygments_lexer": "ipython3",
   "version": "3.7.6"
  }
 },
 "nbformat": 4,
 "nbformat_minor": 4
}
