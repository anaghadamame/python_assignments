{
 "cells": [
  {
   "cell_type": "code",
   "execution_count": null,
   "metadata": {},
   "outputs": [
    {
     "name": "stdout",
     "output_type": "stream",
     "text": [
      "Enter 1st numbers4\n",
      "Enter 2st numbers2\n"
     ]
    }
   ],
   "source": [
    "num1=int(input(\"Enter 1st numbers\"))\n",
    "num2=int(input(\"Enter 2st numbers\"))\n",
    "ch=int(input(\"Enter your choice: 1.addition 2.substraction 3.multiply 4.divide\"))\n",
    "if ch==1:\n",
    "    print(num1+num2)\n",
    "elif ch==2:\n",
    "    print(num1-num2)\n",
    "elif ch==3:\n",
    "    print(num1*num2)\n",
    "elif ch==4:\n",
    "    print(num1/num2)\n",
    "else:\n",
    "    print(\"wrong choice\")"
   ]
  },
  {
   "cell_type": "code",
   "execution_count": null,
   "metadata": {},
   "outputs": [],
   "source": []
  }
 ],
 "metadata": {
  "kernelspec": {
   "display_name": "Python 3",
   "language": "python",
   "name": "python3"
  },
  "language_info": {
   "codemirror_mode": {
    "name": "ipython",
    "version": 3
   },
   "file_extension": ".py",
   "mimetype": "text/x-python",
   "name": "python",
   "nbconvert_exporter": "python",
   "pygments_lexer": "ipython3",
   "version": "3.7.6"
  }
 },
 "nbformat": 4,
 "nbformat_minor": 4
}
