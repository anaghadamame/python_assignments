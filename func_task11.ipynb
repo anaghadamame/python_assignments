{
 "cells": [
  {
   "cell_type": "code",
   "execution_count": 2,
   "metadata": {},
   "outputs": [
    {
     "name": "stdout",
     "output_type": "stream",
     "text": [
      "Enter 1st numbers1\n",
      "Enter 2st numbers2\n",
      "Enter your choice 1.addition 2.substraction 3.multiply 4.divide: 3\n",
      "Multiplication is:2\n",
      "If you want to reapte then press \" yes \" otherwise \"no\":  yes\n",
      "Enter 1st numbers4\n",
      "Enter 2st numbers2\n",
      "Enter your choice 1.addition 2.substraction 3.multiply 4.divide: 4\n",
      "division is:2.0\n",
      "If you want to reapte then press \" yes \" otherwise \"no\":  no\n"
     ]
    }
   ],
   "source": [
    "#Function defination\n",
    "def cal(a,b,ch):\n",
    "        x,y=a,b\n",
    "        if ch==1:\n",
    "            print(\"addition is:{}\".format(x+y))\n",
    "        elif ch==2:\n",
    "            print(\"substraction is:{}\".format(x-y))\n",
    "        elif ch==3:\n",
    "            print(\"Multiplication is:{}\".format(x*y))\n",
    "        elif ch==4:\n",
    "            print(\"division is:{}\".format(x/y))\n",
    "        else:\n",
    "            print(\"wrong choice\")\n",
    "        rep=input(\"If you want to reapte then press \\\" yes \\\" otherwise \\\"no\\\":  \")\n",
    "        if rep=='yes':\n",
    "                rept(rep)\n",
    "def entry():\n",
    "    num1=int(input(\"Enter 1st numbers\"))\n",
    "    num2=int(input(\"Enter 2st numbers\"))\n",
    "    ch=int(input(\"Enter your choice 1.addition 2.substraction 3.multiply 4.divide: \"))\n",
    "    return (num1,num2,ch)\n",
    "def rept(rep):\n",
    "    if rep=='yes':\n",
    "        x,y,z=entry()\n",
    "        cal(x,y,z)\n",
    "    return\n",
    "            \n",
    "a,b,ch=entry()\n",
    "cal(a,b,ch)\n"
   ]
  },
  {
   "cell_type": "markdown",
   "metadata": {},
   "source": [
    " "
   ]
  }
 ],
 "metadata": {
  "kernelspec": {
   "display_name": "Python 3",
   "language": "python",
   "name": "python3"
  },
  "language_info": {
   "codemirror_mode": {
    "name": "ipython",
    "version": 3
   },
   "file_extension": ".py",
   "mimetype": "text/x-python",
   "name": "python",
   "nbconvert_exporter": "python",
   "pygments_lexer": "ipython3",
   "version": "3.7.6"
  }
 },
 "nbformat": 4,
 "nbformat_minor": 4
}
