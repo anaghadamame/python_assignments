{
 "cells": [
  {
   "cell_type": "code",
   "execution_count": 4,
   "metadata": {},
   "outputs": [
    {
     "name": "stdout",
     "output_type": "stream",
     "text": [
      "Enter 1st numbers4\n",
      "Enter 2st numbers2\n",
      "Enter your choice: 1.addition 2.substraction 3.multiply 4.divide4\n",
      "2.0\n"
     ]
    }
   ],
   "source": [
    "#Function defination\n",
    "def add(a,b):\n",
    "    print(a+b)\n",
    "def sub(a,b):\n",
    "    print(a-b)\n",
    "def multi(a,b):\n",
    "    print(a*b)\n",
    "def div(a,b):\n",
    "    print(a/b)\n",
    "\n",
    "num1=int(input(\"Enter 1st numbers\"))\n",
    "num2=int(input(\"Enter 2st numbers\"))\n",
    "ch=int(input(\"Enter your choice: 1.addition 2.substraction 3.multiply 4.divide\"))\n",
    "if ch==1:\n",
    "    add(num1,num2) #function calling\n",
    "elif ch==2:\n",
    "    sub(num1,num2)\n",
    "elif ch==3:\n",
    "    multi(num1,num2)\n",
    "elif ch==4:\n",
    "    div(num1,num2)\n",
    "else:\n",
    "    print(\"wrong choice\")\n"
   ]
  },
  {
   "cell_type": "code",
   "execution_count": null,
   "metadata": {},
   "outputs": [],
   "source": []
  }
 ],
 "metadata": {
  "kernelspec": {
   "display_name": "Python 3",
   "language": "python",
   "name": "python3"
  },
  "language_info": {
   "codemirror_mode": {
    "name": "ipython",
    "version": 3
   },
   "file_extension": ".py",
   "mimetype": "text/x-python",
   "name": "python",
   "nbconvert_exporter": "python",
   "pygments_lexer": "ipython3",
   "version": "3.7.6"
  }
 },
 "nbformat": 4,
 "nbformat_minor": 4
}
