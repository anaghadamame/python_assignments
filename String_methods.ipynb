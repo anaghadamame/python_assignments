{
 "cells": [
  {
   "cell_type": "code",
   "execution_count": null,
   "metadata": {},
   "outputs": [],
   "source": [
    "#String inbuilt methods and implimentation "
   ]
  },
  {
   "cell_type": "code",
   "execution_count": 4,
   "metadata": {},
   "outputs": [
    {
     "name": "stdout",
     "output_type": "stream",
     "text": [
      "   Anagha\n",
      "Anagha\n"
     ]
    }
   ],
   "source": [
    "#1 strip() to remove blank space  string\n",
    "str=\"   Anagha\"\n",
    "print(str)         #orignal string having blank space\n",
    "print(str.strip()) #String after removing blank space\n"
   ]
  },
  {
   "cell_type": "code",
   "execution_count": 11,
   "metadata": {},
   "outputs": [
    {
     "name": "stdout",
     "output_type": "stream",
     "text": [
      "True\n",
      "False\n"
     ]
    }
   ],
   "source": [
    "#2 _contains_()  to check particular characther present in string or not\n",
    "str=\"I am Anagha\"\n",
    "print(str.__contains__('am')) #use of _contains_() \n",
    "print(str.__contains__('am11')) #returns boolean value"
   ]
  },
  {
   "cell_type": "code",
   "execution_count": 13,
   "metadata": {},
   "outputs": [
    {
     "name": "stdout",
     "output_type": "stream",
     "text": [
      "ANAGHA\n",
      "anagha\n"
     ]
    }
   ],
   "source": [
    "#3 swapcase() it will conver the case of string\n",
    "str1=\"anagha\" \n",
    "str2=str1.swapcase() \n",
    "print(str2) #string in upper case\n",
    "print(str2.swapcase()) #string in lower case"
   ]
  },
  {
   "cell_type": "code",
   "execution_count": 17,
   "metadata": {},
   "outputs": [
    {
     "name": "stdout",
     "output_type": "stream",
     "text": [
      "True\n",
      "False\n"
     ]
    }
   ],
   "source": [
    "#4 isnumeric() check string contains numbric value or not # checks only integer numbric value\n",
    "str1=\"1234\"\n",
    "str2=\"Asd99\"\n",
    "print(str1.isnumeric()) #string 1 contains all numbric value\n",
    "print(str2.isnumeric()) #string 2 contains combination of char & number"
   ]
  },
  {
   "cell_type": "code",
   "execution_count": 27,
   "metadata": {},
   "outputs": [
    {
     "name": "stdout",
     "output_type": "stream",
     "text": [
      "8\n",
      "-1\n"
     ]
    }
   ],
   "source": [
    "#5 find() used to get the index of a substring in a string.\n",
    "str=\"I am Anagha\"\n",
    "print(str.find('g'))\n",
    "print(str.find('x')) #if charachter not present"
   ]
  },
  {
   "cell_type": "code",
   "execution_count": null,
   "metadata": {},
   "outputs": [],
   "source": []
  }
 ],
 "metadata": {
  "kernelspec": {
   "display_name": "Python 3",
   "language": "python",
   "name": "python3"
  },
  "language_info": {
   "codemirror_mode": {
    "name": "ipython",
    "version": 3
   },
   "file_extension": ".py",
   "mimetype": "text/x-python",
   "name": "python",
   "nbconvert_exporter": "python",
   "pygments_lexer": "ipython3",
   "version": "3.7.6"
  }
 },
 "nbformat": 4,
 "nbformat_minor": 4
}
