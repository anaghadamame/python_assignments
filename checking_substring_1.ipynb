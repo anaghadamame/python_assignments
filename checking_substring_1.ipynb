{
 "cells": [
  {
   "cell_type": "code",
   "execution_count": 3,
   "metadata": {},
   "outputs": [
    {
     "name": "stdout",
     "output_type": "stream",
     "text": [
      "Enter String  I am Anagha\n",
      "Enter string to find am\n",
      "String contain  am\n"
     ]
    }
   ],
   "source": [
    "#using  _contains_() method returns boolean value\n",
    "str1=input(\"Enter String:\")\n",
    "str2=input(\"Enter string to find:\")\n",
    "x=str1.__contains__(str2) #Here we check requried substring present or not\n",
    "\n",
    "if x==True :     #Check boolean value if prensent then True otherwise False\n",
    "    print(\"String contain {}\".format(str2)) \n",
    "else:            \n",
    "    print(\"String not contain {}\".format(str2))"
   ]
  }
 ],
 "metadata": {
  "kernelspec": {
   "display_name": "Python 3",
   "language": "python",
   "name": "python3"
  },
  "language_info": {
   "codemirror_mode": {
    "name": "ipython",
    "version": 3
   },
   "file_extension": ".py",
   "mimetype": "text/x-python",
   "name": "python",
   "nbconvert_exporter": "python",
   "pygments_lexer": "ipython3",
   "version": "3.7.6"
  }
 },
 "nbformat": 4,
 "nbformat_minor": 4
}
